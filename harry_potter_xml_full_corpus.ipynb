{
 "cells": [
  {
   "cell_type": "code",
   "execution_count": 3,
   "metadata": {},
   "outputs": [],
   "source": [
    "from lxml import etree, html"
   ]
  },
  {
   "cell_type": "code",
   "execution_count": 15,
   "metadata": {},
   "outputs": [
    {
     "name": "stdout",
     "output_type": "stream",
     "text": [
      "01_Rouling_Harry_Potter_1_Harry_Potter_and_the_Sorcerers_Stone.txt\n",
      "02_Rouling_Harry_Potter_2_Harry_Potter_and_the_Chamber_of_Secrets.txt\n",
      "03_Rouling_Harry_Potter_3_Harry_Potter_and_the_Prisoner_of_Azkaban.txt\n",
      "04_Rouling_Harry_Potter_4_Harry_Potter_and_the_Goblet_of_Fire.txt\n",
      "05_Rouling_Harry_Potter_5_Harry_Potter_and_the_Order_of_the_Phoenix_vyichityivaetsya.txt\n",
      "06_Rouling_Harry_Potter_6_Harry_Potter_and_the_Half-Blood_Prince_vyichityivaetsya.txt\n",
      "07_Rouling_Harry_Potter_7_Harry_Potter_and_the_Deathly_Hallows.txt\n"
     ]
    }
   ],
   "source": [
    "def build_lxml_tree(my_html):\n",
    "    tree = html.fromstring(my_html)\n",
    "    tree = etree.ElementTree(tree)\n",
    "    return tree\n",
    "\n",
    "harry_potter_series = [\"01_Rouling_Harry_Potter_1_Harry_Potter_and_the_Sorcerers_Stone.txt\",\n",
    "                       \"02_Rouling_Harry_Potter_2_Harry_Potter_and_the_Chamber_of_Secrets.txt\",\n",
    "                       \"03_Rouling_Harry_Potter_3_Harry_Potter_and_the_Prisoner_of_Azkaban.txt\",\n",
    "                       \"04_Rouling_Harry_Potter_4_Harry_Potter_and_the_Goblet_of_Fire.txt\",\n",
    "                       \"05_Rouling_Harry_Potter_5_Harry_Potter_and_the_Order_of_the_Phoenix_vyichityivaetsya.txt\",\n",
    "                       \"06_Rouling_Harry_Potter_6_Harry_Potter_and_the_Half-Blood_Prince_vyichityivaetsya.txt\",\n",
    "                       \"07_Rouling_Harry_Potter_7_Harry_Potter_and_the_Deathly_Hallows.txt\"\n",
    "]                      \n",
    "\n",
    "contents_of_the_book = \"\"\n",
    "\n",
    "for book in harry_potter_series:\n",
    "    print(book)\n",
    "    with open(book, \"rb\") as handle:\n",
    "        harry_potter_raw_xml = handle.read()\n",
    "        harry_potter_raw_xml_bytes = harry_potter_raw_xml #.encode('utf8')\n",
    "\n",
    "    tree = build_lxml_tree(harry_potter_raw_xml_bytes)\n",
    "\n",
    "    for paragraph in tree.xpath('//section/p'):\n",
    "        paragraph_text = paragraph.text_content()\n",
    "    \n",
    "        contents_of_the_book += paragraph_text + \" \""
   ]
  },
  {
   "cell_type": "code",
   "execution_count": 16,
   "metadata": {},
   "outputs": [],
   "source": [
    "with open('harry_potter_corpus.txt', 'w') as handle:\n",
    "    handle.write(contents_of_the_book)"
   ]
  },
  {
   "cell_type": "code",
   "execution_count": null,
   "metadata": {},
   "outputs": [],
   "source": []
  }
 ],
 "metadata": {
  "kernelspec": {
   "display_name": "Python 3",
   "language": "python",
   "name": "python3"
  },
  "language_info": {
   "codemirror_mode": {
    "name": "ipython",
    "version": 3
   },
   "file_extension": ".py",
   "mimetype": "text/x-python",
   "name": "python",
   "nbconvert_exporter": "python",
   "pygments_lexer": "ipython3",
   "version": "3.8.2"
  }
 },
 "nbformat": 4,
 "nbformat_minor": 4
}
